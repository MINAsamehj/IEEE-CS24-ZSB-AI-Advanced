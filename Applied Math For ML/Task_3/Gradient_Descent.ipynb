{
 "cells": [
  {
   "cell_type": "markdown",
   "metadata": {
    "id": "2lOfeeDiacFA"
   },
   "source": [
    "# Linear Regression Using Gradient Descent\n",
    "\n",
    "## Problem Statement\n",
    "\n",
    "We need to implement a Python function that performs linear regression using gradient descent. The function should take the following inputs:\n",
    "\n",
    "- `X`: A NumPy array representing the feature matrix with a column of ones for the intercept.\n",
    "- `y`: A NumPy array representing the target values.\n",
    "- `alpha`: The learning rate for gradient descent.\n",
    "- `iterations`: The number of iterations to perform gradient descent.\n",
    "\n",
    "The function should return the coefficients of the linear regression model as a NumPy array, rounded to four decimal places.\n",
    "\n",
    "## Example\n",
    "\n",
    "**Input:**\n",
    "```python\n",
    "import numpy as np\n",
    "\n",
    "X = np.array([[1, 1], [1, 2], [1, 3]])\n",
    "y = np.array([1, 2, 3])\n",
    "alpha = 0.01\n",
    "iterations = 1000\n",
    "```\n",
    "\n",
    "**Output:**\n",
    "```python\n",
    "np.array([0.1107, 0.9513])"
   ]
  },
  {
   "cell_type": "code",
   "execution_count": 40,
   "metadata": {},
   "outputs": [],
   "source": [
    "import numpy as np\n",
    "\n",
    "def linear_regression_gradient_descent(X: np.ndarray, y: np.ndarray, alpha: float, iterations: int) -> np.ndarray:\n",
    "    m, n = X.shape\n",
    "    theta = np.zeros((n, 1))\n",
    "    y =np.array([1, 2, 3]).reshape(3,1)\n",
    "    for _ in range(iterations):\n",
    "        predictions = X @ theta\n",
    "        errors = predictions - y\n",
    "        gradients = (1/m) * (X.T @ errors)\n",
    "        theta -= alpha * gradients\n",
    "    # print(predictions)\n",
    "    # print(errors)\n",
    "    return np.round(theta.flatten(), 4)\n"
   ]
  },
  {
   "cell_type": "code",
   "execution_count": 41,
   "metadata": {},
   "outputs": [
    {
     "name": "stdout",
     "output_type": "stream",
     "text": [
      "[0.1107 0.9513]\n"
     ]
    }
   ],
   "source": [
    "X = np.array([[1, 1], [1, 2], [1, 3]])\n",
    "y = np.array([1, 2, 3])\n",
    "alpha = 0.01\n",
    "iterations = 1000\n",
    "\n",
    "print(linear_regression_gradient_descent(X, y, alpha, iterations))\n"
   ]
  },
  {
   "cell_type": "code",
   "execution_count": null,
   "metadata": {},
   "outputs": [],
   "source": []
  }
 ],
 "metadata": {
  "colab": {
   "provenance": []
  },
  "kernelspec": {
   "display_name": "Python 3 (ipykernel)",
   "language": "python",
   "name": "python3"
  },
  "language_info": {
   "codemirror_mode": {
    "name": "ipython",
    "version": 3
   },
   "file_extension": ".py",
   "mimetype": "text/x-python",
   "name": "python",
   "nbconvert_exporter": "python",
   "pygments_lexer": "ipython3",
   "version": "3.11.7"
  }
 },
 "nbformat": 4,
 "nbformat_minor": 4
}
