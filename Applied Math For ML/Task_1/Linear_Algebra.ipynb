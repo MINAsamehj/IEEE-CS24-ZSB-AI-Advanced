{
 "cells": [
  {
   "cell_type": "markdown",
   "metadata": {
    "id": "Z1RXoOS7qfRm"
   },
   "source": [
    "**By:** *Ahmed Sharaf* & *Mina Sameh*"
   ]
  },
  {
   "cell_type": "markdown",
   "metadata": {
    "id": "3pOBTfSLqfRp"
   },
   "source": [
    "In this notebook you will practice how to:\n",
    "1. Calculate the determinant of a 2x2 matrix with and without using numpy.linalg\n",
    "2. Calculate the determinant of a 3x3 matrix with and without using numpy.linalg\n",
    "3. Calculate the inverse of a 2x2 matrix using numpy.linalg\n",
    "4. Calculate the inverse of a 3x3 matrix using numpy.linalg\n",
    "5. Finding the rank of a matrix using numpy"
   ]
  },
  {
   "cell_type": "markdown",
   "metadata": {
    "id": "X1edM_73qfRp"
   },
   "source": [
    "### Notice\n",
    "\n",
    "**Please Note:**  \n",
    "When writing code, make sure to place it in the designated area marked with `# code here`.  \n",
    "If there is a `pass` keyword in the code, please remove it and replace it with the required code."
   ]
  },
  {
   "cell_type": "markdown",
   "metadata": {
    "id": "EB_T2lIpqfRq"
   },
   "source": [
    "# Calculating the determinant using numpy.linalg"
   ]
  },
  {
   "cell_type": "code",
   "execution_count": 1,
   "metadata": {
    "id": "uwA8P6YbqfRq"
   },
   "outputs": [],
   "source": [
    "import numpy as np"
   ]
  },
  {
   "cell_type": "code",
   "execution_count": 2,
   "metadata": {
    "id": "pBY466UWqfRr",
    "outputId": "a0bb9f68-9d7a-4e74-b0a1-c692c8c81b34"
   },
   "outputs": [
    {
     "name": "stdout",
     "output_type": "stream",
     "text": [
      "[[1 2]\n",
      " [3 4]]\n"
     ]
    }
   ],
   "source": [
    "a2 = np.array([[1,2],[3,4]])\n",
    "print(a2)"
   ]
  },
  {
   "cell_type": "code",
   "execution_count": 3,
   "metadata": {
    "id": "CHVDvy_4qfRs",
    "outputId": "99b2e508-f0d9-4e1c-c5cb-98c2ce46c7e7"
   },
   "outputs": [
    {
     "name": "stdout",
     "output_type": "stream",
     "text": [
      "[[ 1  1  2]\n",
      " [ 2  3  1]\n",
      " [ 3  4 -5]]\n"
     ]
    }
   ],
   "source": [
    "a3 = np.array([[1,1,2],[2,3,1],[3,4,-5]])\n",
    "print(a3)"
   ]
  },
  {
   "cell_type": "code",
   "execution_count": 4,
   "metadata": {
    "id": "KShfjovCqfRt"
   },
   "outputs": [
    {
     "name": "stdout",
     "output_type": "stream",
     "text": [
      "determinant of a2 is:\n",
      " -2 \n",
      "determinant of a3 is:\n",
      " -8\n"
     ]
    }
   ],
   "source": [
    "## Determinate of a2, a3\n",
    "a2_det=np.linalg.det(a2)\n",
    "a3_det=np.linalg.det(a3)\n",
    "\n",
    "print('determinant of a2 is:\\n' , round(a2_det) ,'\\ndeterminant of a3 is:\\n' , round(a3_det))"
   ]
  },
  {
   "cell_type": "markdown",
   "metadata": {
    "id": "GgQ9XWfHqfRu"
   },
   "source": [
    "# Calculating the determinant of a 2x2 matrixwithout using numpy"
   ]
  },
  {
   "cell_type": "code",
   "execution_count": 5,
   "metadata": {
    "id": "JFlca-gpqfRu"
   },
   "outputs": [
    {
     "name": "stdout",
     "output_type": "stream",
     "text": [
      "-2\n"
     ]
    }
   ],
   "source": [
    "def Det2(mat):\n",
    "    det= (mat[0][0]*mat[1][1]) -(mat[0][1]*mat[1][0])\n",
    "    return det\n",
    "\n",
    "print(Det2(a2))"
   ]
  },
  {
   "cell_type": "markdown",
   "metadata": {
    "id": "G40JfZuLqfRv"
   },
   "source": [
    "# Calculating the determinant of a 3x3 matrix without using numpy\n",
    "\n",
    "One idea\n",
    "1. write a function to calculate the minor matrices. (hint, use slices)\n",
    "2. write a function to calculate the cofactors (this should call the first function, and the determinant function)\n",
    "3. the determinant function calls the function in step two and adds the results together.\n",
    "\n",
    "Another idea\n",
    "use recursion ==> code credit https://stackoverflow.com/questions/3819500/code-to-solve-determinant-using-python-without-using-scipy-linalg-det"
   ]
  },
  {
   "cell_type": "code",
   "execution_count": 6,
   "metadata": {
    "id": "BNWmcnNNqfRv",
    "outputId": "66baae11-36a8-41b9-b7b9-7e4f8c4f7e4d"
   },
   "outputs": [
    {
     "data": {
      "text/plain": [
       "-8"
      ]
     },
     "execution_count": 6,
     "metadata": {},
     "output_type": "execute_result"
    }
   ],
   "source": [
    "# delete function removes a sub-array from the input array\n",
    "# first argument is the original array\n",
    "# second argument is the index to the sub-array to be removed\n",
    "# third argument is the axis among which the deletion happens (0: x axis \"row\" and 1: y axis \"column\")\n",
    "arr = np.array([[1,2,3,4], [5,6,7,8], [9,10,11,12]])\n",
    "# print(arr)\n",
    "\n",
    "\n",
    "def sub_det(matrix,i):\n",
    "    mat2=np.delete(matrix,0,0)\n",
    "    mat3=np.delete(mat2,i,1)\n",
    "    point = matrix[0][i]\n",
    "    if (i%2 != 0 ):point=-point\n",
    "    return point*(mat3[0][0]*mat3[1][1]-mat3[0][1]*mat3[1][0])\n",
    "\n",
    "def det_3x3(array):\n",
    "    result=0\n",
    "    for i in range(3):\n",
    "        sub_result=sub_det(array,i)\n",
    "        result+=sub_result\n",
    "        \n",
    "    return result\n",
    "    \n",
    "\n",
    "\n",
    "det_3x3(a3)"
   ]
  },
  {
   "cell_type": "code",
   "execution_count": 8,
   "metadata": {
    "id": "dVpbWiExqfRv"
   },
   "outputs": [],
   "source": [
    "def minor(arr,i,j):\n",
    "    ## Code Here\n",
    "    pass\n",
    "\n",
    "def det(arr):\n",
    "    ## Code Here\n",
    "    pass\n",
    "\n",
    "# print(a3)\n",
    "# det(a3)\n",
    "\n",
    "\n",
    "# عملتها فوق ماخدتش بالي من ده"
   ]
  },
  {
   "cell_type": "markdown",
   "metadata": {
    "id": "QNfPwl9OqfRv"
   },
   "source": [
    "# Calculating the inverse using numpy.linalg"
   ]
  },
  {
   "cell_type": "code",
   "execution_count": 9,
   "metadata": {
    "id": "tItGh2bwqfRw",
    "outputId": "5d0569a3-b4f4-48ec-e1a0-d5cb95746d5d"
   },
   "outputs": [
    {
     "name": "stdout",
     "output_type": "stream",
     "text": [
      "[[1 2]\n",
      " [3 4]]\n"
     ]
    },
    {
     "data": {
      "text/plain": [
       "array([[-2. ,  1. ],\n",
       "       [ 1.5, -0.5]])"
      ]
     },
     "execution_count": 9,
     "metadata": {},
     "output_type": "execute_result"
    }
   ],
   "source": [
    "# The inverse of 2 x 2 matrix\n",
    "\n",
    "a2 = np.array([[1,2],[3,4]])\n",
    "\n",
    "print(a2)\n",
    "\n",
    "np.linalg.inv(a2)\n",
    "\n",
    "# Code Here"
   ]
  },
  {
   "cell_type": "code",
   "execution_count": 10,
   "metadata": {
    "id": "CavpPfcJqfRw",
    "outputId": "eff7406c-72bc-4350-9ed1-c4f1d9141c22"
   },
   "outputs": [
    {
     "name": "stdout",
     "output_type": "stream",
     "text": [
      "[[1 2]\n",
      " [2 4]]\n"
     ]
    },
    {
     "ename": "LinAlgError",
     "evalue": "Singular matrix",
     "output_type": "error",
     "traceback": [
      "\u001b[1;31m---------------------------------------------------------------------------\u001b[0m",
      "\u001b[1;31mLinAlgError\u001b[0m                               Traceback (most recent call last)",
      "Cell \u001b[1;32mIn[10], line 8\u001b[0m\n\u001b[0;32m      5\u001b[0m \u001b[38;5;28mprint\u001b[39m(a3)\n\u001b[0;32m      7\u001b[0m \u001b[38;5;66;03m## Code Here\u001b[39;00m\n\u001b[1;32m----> 8\u001b[0m np\u001b[38;5;241m.\u001b[39mlinalg\u001b[38;5;241m.\u001b[39minv(a3)\n",
      "File \u001b[1;32m~\\anaconda3\\Lib\\site-packages\\numpy\\linalg\\linalg.py:561\u001b[0m, in \u001b[0;36minv\u001b[1;34m(a)\u001b[0m\n\u001b[0;32m    559\u001b[0m signature \u001b[38;5;241m=\u001b[39m \u001b[38;5;124m'\u001b[39m\u001b[38;5;124mD->D\u001b[39m\u001b[38;5;124m'\u001b[39m \u001b[38;5;28;01mif\u001b[39;00m isComplexType(t) \u001b[38;5;28;01melse\u001b[39;00m \u001b[38;5;124m'\u001b[39m\u001b[38;5;124md->d\u001b[39m\u001b[38;5;124m'\u001b[39m\n\u001b[0;32m    560\u001b[0m extobj \u001b[38;5;241m=\u001b[39m get_linalg_error_extobj(_raise_linalgerror_singular)\n\u001b[1;32m--> 561\u001b[0m ainv \u001b[38;5;241m=\u001b[39m _umath_linalg\u001b[38;5;241m.\u001b[39minv(a, signature\u001b[38;5;241m=\u001b[39msignature, extobj\u001b[38;5;241m=\u001b[39mextobj)\n\u001b[0;32m    562\u001b[0m \u001b[38;5;28;01mreturn\u001b[39;00m wrap(ainv\u001b[38;5;241m.\u001b[39mastype(result_t, copy\u001b[38;5;241m=\u001b[39m\u001b[38;5;28;01mFalse\u001b[39;00m))\n",
      "File \u001b[1;32m~\\anaconda3\\Lib\\site-packages\\numpy\\linalg\\linalg.py:112\u001b[0m, in \u001b[0;36m_raise_linalgerror_singular\u001b[1;34m(err, flag)\u001b[0m\n\u001b[0;32m    111\u001b[0m \u001b[38;5;28;01mdef\u001b[39;00m \u001b[38;5;21m_raise_linalgerror_singular\u001b[39m(err, flag):\n\u001b[1;32m--> 112\u001b[0m     \u001b[38;5;28;01mraise\u001b[39;00m LinAlgError(\u001b[38;5;124m\"\u001b[39m\u001b[38;5;124mSingular matrix\u001b[39m\u001b[38;5;124m\"\u001b[39m)\n",
      "\u001b[1;31mLinAlgError\u001b[0m: Singular matrix"
     ]
    }
   ],
   "source": [
    "# The inverse of a singular matrix\n",
    "\n",
    "a3 = np.array([[1,2],[2,4]])\n",
    "\n",
    "print(a3)\n",
    "\n",
    "## Code Here\n",
    "np.linalg.inv(a3)\n",
    "\n",
    "#obviously det is equal to zero\n",
    "#1*4-2*2=0"
   ]
  },
  {
   "cell_type": "code",
   "execution_count": 11,
   "metadata": {
    "id": "O9wS-CRSqfRw"
   },
   "outputs": [
    {
     "data": {
      "text/plain": [
       "array([[ 0.17647059, -0.00326797, -0.02287582],\n",
       "       [ 0.05882353, -0.13071895,  0.08496732],\n",
       "       [-0.11764706,  0.1503268 ,  0.05228758]])"
      ]
     },
     "execution_count": 11,
     "metadata": {},
     "output_type": "execute_result"
    }
   ],
   "source": [
    "# The inverse of 3 x 3 matrix\n",
    "\n",
    "A = np.array([[6, 1, 1],\n",
    "              [4, -2, 5],\n",
    "              [2, 8, 7]])\n",
    "\n",
    "# Calculating the inverse of the matrix\n",
    "## Code Here\n",
    "np.linalg.inv(A)"
   ]
  },
  {
   "cell_type": "code",
   "execution_count": 12,
   "metadata": {
    "id": "E7JrAY-MqfRw"
   },
   "outputs": [
    {
     "data": {
      "text/plain": [
       "array([[[-2.  ,  1.  ],\n",
       "        [ 1.5 , -0.5 ]],\n",
       "\n",
       "       [[-1.25,  0.75],\n",
       "        [ 0.75, -0.25]]])"
      ]
     },
     "execution_count": 12,
     "metadata": {},
     "output_type": "execute_result"
    }
   ],
   "source": [
    "# Inverses of several matrices can\n",
    "# be computed at once\n",
    "\n",
    "A = np.array([[[1., 2.],\n",
    "               [3., 4.]],\n",
    "              [[1, 3],\n",
    "               [3, 5]]])\n",
    "\n",
    "\n",
    "# Calculating the inverse of the matrix\n",
    "## Code Here\n",
    "\n",
    "np.linalg.inv(A)"
   ]
  },
  {
   "cell_type": "markdown",
   "metadata": {
    "id": "-SsPcns9qfRx"
   },
   "source": [
    "# Calculating the inverse of a 2x2 matrix without using numpy"
   ]
  },
  {
   "cell_type": "markdown",
   "metadata": {
    "id": "Mi6_cx6uqfRx"
   },
   "source": [
    "1. Code a function to calculate the determinant of 2x2 matrix\n",
    "2. Code a function that interchange the diagonal elements of a 2x2 matrix and inverse the sign of the off diagonal elements\n",
    "3. Code a function to compute the inverse of 2x2 matrix based on the two previous functions if it exists"
   ]
  },
  {
   "cell_type": "code",
   "execution_count": 13,
   "metadata": {
    "id": "UnTvG9aEqfRx"
   },
   "outputs": [
    {
     "name": "stdout",
     "output_type": "stream",
     "text": [
      "[[-2.   1. ]\n",
      " [ 1.5 -0.5]]\n"
     ]
    }
   ],
   "source": [
    "#step -1- we already coded the det function that works for 2x2 and nxn size matrix\n",
    "\n",
    "#step -2-\n",
    "def interchangeMatrix(A):\n",
    "    B=np.array([[A[1][1],-A[0][1]],[-A[1][0] , A[0][0]]])\n",
    "    return B\n",
    "\n",
    "#step -3-\n",
    "def inverse2x2(A):\n",
    "    det = Det2(A)\n",
    "    changed= interchangeMatrix(A)\n",
    "    inverse = (1/det) * changed\n",
    "    return inverse\n",
    "\n",
    "a2 = np.array([[1,2],[3,4]])\n",
    "print(inverse2x2(a2))"
   ]
  },
  {
   "cell_type": "markdown",
   "metadata": {
    "id": "zp2qJjhZqfRx"
   },
   "source": [
    "# Calculating the inverse of a 3x3 matrix without using numpy"
   ]
  },
  {
   "cell_type": "markdown",
   "metadata": {
    "id": "JboFJ4EjqfRx"
   },
   "source": [
    "# Use the adjoint matrix method\n",
    "\n",
    "Coding a Python code to inverse a 3x3 matrix (no numpy.linalg.inv allowed):\n",
    "1. Coding a function that checks if a 3x3 matrix is invertible\n",
    "2. Coding a function that generates the transpose of a 3x3 matrix\n",
    "3. Coding a function that generates the matrix of minors of a 3x3 matrix\n",
    "4. Coding a function that generates the matrix of cofactors of a 3x3 matrix\n",
    "5. Coding a function that generates the inverse of a 3x3 matrix if it exists\n"
   ]
  },
  {
   "cell_type": "code",
   "execution_count": 14,
   "metadata": {
    "id": "jdkq-dW6qfRx"
   },
   "outputs": [
    {
     "name": "stdout",
     "output_type": "stream",
     "text": [
      "[[ 0.17647059 -0.00326797 -0.02287582]\n",
      " [ 0.05882353 -0.13071895  0.08496732]\n",
      " [-0.11764706  0.1503268   0.05228758]]\n",
      "[[ 0.17647059 -0.00326797 -0.02287582]\n",
      " [ 0.05882353 -0.13071895  0.08496732]\n",
      " [-0.11764706  0.1503268   0.05228758]]\n"
     ]
    }
   ],
   "source": [
    "#step -1- a matrix is invertible only if its determinant != 0\n",
    "def invertible(A):\n",
    "    det = det_3x3(A)\n",
    "    if det == 0:\n",
    "        return False\n",
    "    else :return True\n",
    "\n",
    "#step -2- rows and columns could be interchanged without the need of built-in methods\n",
    "def transposeM(A):\n",
    "    A[0][1], A[1][0] = A[1][0] , A[0][1]\n",
    "    A[0][2], A[2][0] = A[2][0] , A[0][2]\n",
    "    A[1][2], A[2][1] = A[2][1] , A[1][2]\n",
    "    return A\n",
    "    \n",
    "    \n",
    "\n",
    "#step -3- we coded that previously minor(arr,i,j)\n",
    "def minor(arr, i,j):\n",
    "    mat2=np.delete(arr,i,0)\n",
    "    mat3=np.delete(mat2,j,1)\n",
    "    return (mat3[0][0]*mat3[1][1]-mat3[0][1]*mat3[1][0])\n",
    "\n",
    "    \n",
    "#step -4- Calculating the matrix of cofactors (minors determinants multiplied by signs)\n",
    "def cofactors(A):\n",
    "    cofactored =np.zeros((3,3))\n",
    "    for i in range(3):\n",
    "        for j in range(3):\n",
    "            cofactored[i][j]=minor(A,i,j)\n",
    "            if abs(i-j) == 1: cofactored[i][j]= -cofactored[i][j]\n",
    "            \n",
    "            \n",
    "            \n",
    "    return cofactored\n",
    "\n",
    "\n",
    "#step -5- Inverse is the transpose of the cofactor matrix divided by the determinant of the original/input matrix\n",
    "def inverse3x3(A):\n",
    "    if invertible(A) == False:\n",
    "        raise ValueError('the matrix is singular, dont have an inverse because the determinant is equal to ZERO')\n",
    "    det = det_3x3(A)\n",
    "    B = cofactors(A)\n",
    "    C = transposeM(B)\n",
    "    inverse = (1/det) * C\n",
    "    return inverse\n",
    "    \n",
    "\n",
    "\n",
    "B = np.array([[6, 1, 1],\n",
    "              [4, -2, 5],\n",
    "              [2, 8, 7]])\n",
    "\n",
    "print(inverse3x3(B))\n",
    "\n",
    "#[ 0.17647059 -0.00326797 -0.02287582]\n",
    "# [ 0.05882353 -0.13071895  0.08496732]\n",
    "# [-0.11764706  0.1503268   0.05228758]]\n",
    "#check\n",
    "print(np.linalg.inv(B))"
   ]
  },
  {
   "cell_type": "code",
   "execution_count": 15,
   "metadata": {},
   "outputs": [
    {
     "ename": "ValueError",
     "evalue": "the matrix is singular, dont have an inverse because the determinant is equal to ZERO",
     "output_type": "error",
     "traceback": [
      "\u001b[1;31m---------------------------------------------------------------------------\u001b[0m",
      "\u001b[1;31mValueError\u001b[0m                                Traceback (most recent call last)",
      "Cell \u001b[1;32mIn[15], line 5\u001b[0m\n\u001b[0;32m      1\u001b[0m \u001b[38;5;66;03m### testing if the det is equal to zero case\u001b[39;00m\n\u001b[0;32m      2\u001b[0m matrix \u001b[38;5;241m=\u001b[39m np\u001b[38;5;241m.\u001b[39marray([[\u001b[38;5;241m1\u001b[39m, \u001b[38;5;241m2\u001b[39m, \u001b[38;5;241m3\u001b[39m],\n\u001b[0;32m      3\u001b[0m                    [\u001b[38;5;241m4\u001b[39m, \u001b[38;5;241m5\u001b[39m, \u001b[38;5;241m6\u001b[39m],\n\u001b[0;32m      4\u001b[0m                    [\u001b[38;5;241m7\u001b[39m, \u001b[38;5;241m8\u001b[39m, \u001b[38;5;241m9\u001b[39m]])\n\u001b[1;32m----> 5\u001b[0m inverse3x3(matrix)\n",
      "Cell \u001b[1;32mIn[14], line 40\u001b[0m, in \u001b[0;36minverse3x3\u001b[1;34m(A)\u001b[0m\n\u001b[0;32m     38\u001b[0m \u001b[38;5;28;01mdef\u001b[39;00m \u001b[38;5;21minverse3x3\u001b[39m(A):\n\u001b[0;32m     39\u001b[0m     \u001b[38;5;28;01mif\u001b[39;00m invertible(A) \u001b[38;5;241m==\u001b[39m \u001b[38;5;28;01mFalse\u001b[39;00m:\n\u001b[1;32m---> 40\u001b[0m         \u001b[38;5;28;01mraise\u001b[39;00m \u001b[38;5;167;01mValueError\u001b[39;00m(\u001b[38;5;124m'\u001b[39m\u001b[38;5;124mthe matrix is singular, dont have an inverse because the determinant is equal to ZERO\u001b[39m\u001b[38;5;124m'\u001b[39m)\n\u001b[0;32m     41\u001b[0m     det \u001b[38;5;241m=\u001b[39m det_3x3(A)\n\u001b[0;32m     42\u001b[0m     B \u001b[38;5;241m=\u001b[39m cofactors(A)\n",
      "\u001b[1;31mValueError\u001b[0m: the matrix is singular, dont have an inverse because the determinant is equal to ZERO"
     ]
    }
   ],
   "source": [
    "### testing if the det is equal to zero case\n",
    "matrix = np.array([[1, 2, 3],\n",
    "                   [4, 5, 6],\n",
    "                   [7, 8, 9]])\n",
    "inverse3x3(matrix)"
   ]
  },
  {
   "cell_type": "markdown",
   "metadata": {
    "id": "Ab_mNSfdqfRx"
   },
   "source": [
    "# Finding the rank of a matrix using numpy"
   ]
  },
  {
   "cell_type": "code",
   "execution_count": 16,
   "metadata": {
    "id": "sMQMfl5YqfRx"
   },
   "outputs": [
    {
     "data": {
      "text/plain": [
       "1"
      ]
     },
     "execution_count": 16,
     "metadata": {},
     "output_type": "execute_result"
    }
   ],
   "source": [
    "a3 = np.array([[1,2],[2,4]])\n",
    "\n",
    "np.linalg.matrix_rank(a3)"
   ]
  },
  {
   "cell_type": "code",
   "execution_count": null,
   "metadata": {},
   "outputs": [],
   "source": []
  }
 ],
 "metadata": {
  "colab": {
   "provenance": []
  },
  "kernelspec": {
   "display_name": "Python 3 (ipykernel)",
   "language": "python",
   "name": "python3"
  },
  "language_info": {
   "codemirror_mode": {
    "name": "ipython",
    "version": 3
   },
   "file_extension": ".py",
   "mimetype": "text/x-python",
   "name": "python",
   "nbconvert_exporter": "python",
   "pygments_lexer": "ipython3",
   "version": "3.11.7"
  }
 },
 "nbformat": 4,
 "nbformat_minor": 4
}
