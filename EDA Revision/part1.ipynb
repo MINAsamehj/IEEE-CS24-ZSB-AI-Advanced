{
 "cells": [
  {
   "cell_type": "code",
   "execution_count": 1,
   "id": "f2d749f9-93b9-417a-8092-a5dae5730016",
   "metadata": {},
   "outputs": [],
   "source": [
    "import numpy as np\n"
   ]
  },
  {
   "cell_type": "code",
   "execution_count": 2,
   "id": "7d05816a-6f00-4202-afb6-2fe7f931db4e",
   "metadata": {},
   "outputs": [],
   "source": [
    "\n",
    "def calculate(data_list):\n",
    "    matrix = np.array(data_list).reshape(3, 3)\n",
    "    # the mean, variance, standard deviation, max, min, and sum 3 times.\n",
    "\n",
    "    analysis = {\"mean\": [\n",
    "            np.mean(matrix, axis=0).tolist(),  \n",
    "            np.mean(matrix, axis=1).tolist(),  \n",
    "            np.mean(data_list)],\n",
    "            \"variance\": [\n",
    "            np.var(matrix, axis=0).tolist(),  \n",
    "            np.var(matrix, axis=1).tolist(),  \n",
    "            np.var(data_list)],\n",
    "            \"standard deviation\": [\n",
    "            np.std(matrix, axis=0).tolist(),  \n",
    "            np.std(matrix, axis=1).tolist(),  \n",
    "            np.std(data_list)],\n",
    "            \"max\": [\n",
    "            np.max(matrix, axis=0).tolist(),  \n",
    "            np.max(matrix, axis=1).tolist(),  \n",
    "            np.max(data_list)],\n",
    "            \"min\": [\n",
    "            np.min(matrix, axis=0).tolist(),  \n",
    "            np.min(matrix, axis=1).tolist(),  \n",
    "            np.min(data_list)],\n",
    "            \"sum\": [\n",
    "            np.sum(matrix, axis=0).tolist(),  \n",
    "            np.sum(matrix, axis=1).tolist(),  \n",
    "            np.sum(data_list)],\n",
    "               \n",
    "            \n",
    "               }\n",
    "\n",
    "\n",
    "    \n",
    "    return analysis\n"
   ]
  },
  {
   "cell_type": "code",
   "execution_count": 3,
   "id": "2acae1b9-bb86-4478-b976-0b31cc4012cb",
   "metadata": {},
   "outputs": [
    {
     "data": {
      "text/plain": [
       "{'mean': [[4.0, 5.0, 6.0], [2.0, 5.0, 8.0], 5.0],\n",
       " 'variance': [[6.0, 6.0, 6.0],\n",
       "  [0.6666666666666666, 0.6666666666666666, 0.6666666666666666],\n",
       "  6.666666666666667],\n",
       " 'standard deviation': [[2.449489742783178,\n",
       "   2.449489742783178,\n",
       "   2.449489742783178],\n",
       "  [0.816496580927726, 0.816496580927726, 0.816496580927726],\n",
       "  2.581988897471611],\n",
       " 'max': [[7, 8, 9], [3, 6, 9], 9],\n",
       " 'min': [[1, 2, 3], [1, 4, 7], 1],\n",
       " 'sum': [[12, 15, 18], [6, 15, 24], 45]}"
      ]
     },
     "execution_count": 3,
     "metadata": {},
     "output_type": "execute_result"
    }
   ],
   "source": [
    "test =calculate([1,2,3,4,5,6,7,8,9])\n",
    "test"
   ]
  },
  {
   "cell_type": "markdown",
   "id": "3cfb7e08-5473-4cdf-8b93-985486587d5b",
   "metadata": {},
   "source": []
  }
 ],
 "metadata": {
  "kernelspec": {
   "display_name": "Python 3 (ipykernel)",
   "language": "python",
   "name": "python3"
  },
  "language_info": {
   "codemirror_mode": {
    "name": "ipython",
    "version": 3
   },
   "file_extension": ".py",
   "mimetype": "text/x-python",
   "name": "python",
   "nbconvert_exporter": "python",
   "pygments_lexer": "ipython3",
   "version": "3.11.7"
  }
 },
 "nbformat": 4,
 "nbformat_minor": 5
}
